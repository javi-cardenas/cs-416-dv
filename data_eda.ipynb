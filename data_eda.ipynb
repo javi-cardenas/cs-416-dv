{
 "cells": [
  {
   "cell_type": "markdown",
   "id": "5a22e8c7",
   "metadata": {},
   "source": [
    "# Explore Data, Remove Unnecessary Columns, and Zip Project Data"
   ]
  },
  {
   "cell_type": "code",
   "execution_count": null,
   "id": "94aa08e6",
   "metadata": {},
   "outputs": [],
   "source": [
    "import pandas as pd"
   ]
  },
  {
   "cell_type": "code",
   "execution_count": null,
   "id": "21f154ee",
   "metadata": {},
   "outputs": [],
   "source": [
    "df = pd.read_csv(\"data/project_data.csv\")"
   ]
  }
 ],
 "metadata": {
  "kernelspec": {
   "display_name": ".venv",
   "language": "python",
   "name": "python3"
  },
  "language_info": {
   "name": "python",
   "version": "3.12.9"
  }
 },
 "nbformat": 4,
 "nbformat_minor": 5
}
