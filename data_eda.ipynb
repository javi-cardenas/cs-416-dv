{
 "cells": [
  {
   "cell_type": "markdown",
   "id": "5a22e8c7",
   "metadata": {},
   "source": [
    "# Explore Data, Remove Unnecessary Columns, and Zip Project Data"
   ]
  },
  {
   "cell_type": "code",
   "execution_count": null,
   "id": "94aa08e6",
   "metadata": {},
   "outputs": [],
   "source": []
  }
 ],
 "metadata": {
  "kernelspec": {
   "display_name": ".venv",
   "language": "python",
   "name": "python3"
  },
  "language_info": {
   "name": "python",
   "version": "3.12.9"
  }
 },
 "nbformat": 4,
 "nbformat_minor": 5
}
